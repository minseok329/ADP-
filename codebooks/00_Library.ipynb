{
 "cells": [
  {
   "cell_type": "code",
   "execution_count": null,
   "id": "9db69c32",
   "metadata": {},
   "outputs": [],
   "source": [
    "# 1. 기본 라이브러리 및 설정\n",
    "import warnings\n",
    "warnings.filterwarnings('ignore')\n",
    "\n",
    "import pandas as pd\n",
    "import numpy as np\n",
    "import matplotlib.pyplot as plt\n",
    "import seaborn as sns\n",
    "\n",
    "# 한글 폰트 설정 (필요시)\n",
    "plt.rcParams['font.family'] = 'DejaVu Sans'\n",
    "plt.rcParams['axes.unicode_minus'] = False"
   ]
  },
  {
   "cell_type": "code",
   "execution_count": null,
   "id": "02c8910f",
   "metadata": {},
   "outputs": [],
   "source": [
    "# 2. 통계분석 라이브러리\n",
    "from scipy import stats\n",
    "from scipy.stats import (\n",
    "    ttest_1samp, ttest_rel, ttest_ind,     # t-검정\n",
    "    chisquare, chi2_contingency,           # 카이제곱 검정\n",
    "    pearsonr, spearmanr, kendalltau,       # 상관분석\n",
    "    shapiro, normaltest,                   # 정규성 검정\n",
    "    levene, bartlett,                      # 등분산성 검정\n",
    "    mannwhitneyu, wilcoxon, ranksums,      # 비모수 검정\n",
    "    binom, f_oneway                        # 이항분포, ANOVA\n",
    ")\n",
    "\n",
    "import statsmodels.api as sm\n",
    "from statsmodels.stats.outliers_influence import variance_inflation_factor\n",
    "from statsmodels.stats.multicomp import pairwise_tukeyhsd\n",
    "from statsmodels.stats.contingency_tables import mcnemar\n",
    "\n",
    "# 생존분석\n",
    "from lifelines import KaplanMeierFitter\n",
    "from lifelines.statistics import logrank_test\n",
    "\n",
    "# 간편 통계\n",
    "import pingouin as pg"
   ]
  },
  {
   "cell_type": "code",
   "execution_count": null,
   "id": "533dcd5f",
   "metadata": {},
   "outputs": [],
   "source": [
    "# 3. 머신러닝 라이브러리\n",
    "from sklearn.model_selection import train_test_split, GridSearchCV, cross_val_score, KFold, StratifiedKFold\n",
    "from sklearn.preprocessing import StandardScaler, LabelEncoder, OneHotEncoder, PowerTransformer\n",
    "from sklearn.impute import SimpleImputer, KNNImputer, IterativeImputer\n",
    "from sklearn.feature_selection import SelectKBest, RFE, RFECV, SequentialFeatureSelector\n",
    "from sklearn.decomposition import PCA\n",
    "\n",
    "# 머신러닝 모델\n",
    "from sklearn.linear_model import LinearRegression, LogisticRegression, Ridge, Lasso\n",
    "from sklearn.tree import DecisionTreeClassifier, DecisionTreeRegressor\n",
    "from sklearn.ensemble import RandomForestClassifier, RandomForestRegressor, VotingClassifier\n",
    "from sklearn.neighbors import KNeighborsClassifier, KNeighborsRegressor\n",
    "from sklearn.svm import SVC, SVR\n",
    "from sklearn.naive_bayes import GaussianNB\n",
    "from sklearn.cluster import KMeans, DBSCAN\n",
    "from sklearn.neural_network import MLPClassifier, MLPRegressor\n",
    "\n",
    "\n",
    "# 부스팅\n",
    "from xgboost import XGBClassifier, XGBRegressor\n",
    "from lightgbm import LGBMClassifier, LGBMRegressor\n",
    "\n",
    "# 평가지표\n",
    "from sklearn.metrics import (\n",
    "    accuracy_score, classification_report, confusion_matrix,\n",
    "    mean_squared_error, r2_score, f1_score, precision_score, recall_score,\n",
    "    roc_auc_score, roc_curve, precision_recall_curve, matthews_corrcoef\n",
    ")\n",
    "\n",
    "# 고급도구\n",
    "from sklearn.pipeline import Pipeline\n",
    "from sklearn.compose import ColumnTransformer\n",
    "from sklearn.utils.class_weight import compute_class_weight"
   ]
  },
  {
   "cell_type": "code",
   "execution_count": null,
   "id": "2cbc920f",
   "metadata": {},
   "outputs": [],
   "source": [
    "# 생존분석\n",
    "from lifelines import KaplanMeierFitter, CoxPHFitter\n",
    "from lifelines.statistics import logrank_test"
   ]
  },
  {
   "cell_type": "code",
   "execution_count": null,
   "id": "8dddb5c2",
   "metadata": {},
   "outputs": [],
   "source": [
    "# 9. 불균형 데이터 처리\n",
    "\n",
    "from collections import Counter\n",
    "from imblearn.over_sampling import SMOTE, RandomOverSampler\n",
    "from imblearn.under_sampling import RandomUnderSampler\n",
    "from imblearn.combine import SMOTEENN\n"
   ]
  }
 ],
 "metadata": {
  "kernelspec": {
   "display_name": "exercise1",
   "language": "python",
   "name": "python3"
  },
  "language_info": {
   "codemirror_mode": {
    "name": "ipython",
    "version": 3
   },
   "file_extension": ".py",
   "mimetype": "text/x-python",
   "name": "python",
   "nbconvert_exporter": "python",
   "pygments_lexer": "ipython3",
   "version": "3.8.18"
  }
 },
 "nbformat": 4,
 "nbformat_minor": 5
}
